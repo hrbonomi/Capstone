{
    "cells": [
        {
            "cell_type": "markdown",
            "metadata": {},
            "source": "# Capstone Project\n## The Battle of the Neighborhoods\n### Week 2\n## Introduction\n---"
        },
        {
            "cell_type": "markdown",
            "metadata": {},
            "source": "### Business Problem  \n\nI would like to help clients who are trying to decide where to invest to open a bar business. Bars are usually co-localized with other businesses like restaurants, dancing clubs and other bars as well. This is why many cities have bars that are spatially clustered together in some streets, neighborhoods or districts. I want to identify these clusters in major cities around the world and where they are located. Moreover, I will extract useful information for the bar industry, in order to offer optimum location options to investors who want to invest in this type of business. In this report I am performing an analysis for Toronto city in Canada.\n"
        },
        {
            "cell_type": "markdown",
            "metadata": {},
            "source": "## Data section\n---"
        },
        {
            "cell_type": "markdown",
            "metadata": {},
            "source": "### Data and Methodology  \n\nIn order to determine potential locations for bar businesses, data from Toronto was collected and analyzed. Location data from Wikipedia, Foursquare and Geospatial Data was gathered, cleaned and combined. Then, clustering and frequency analyses were used to determine the options to be presented for the client. The venues and clusters were represented on a Toronto's map and frequency data were represented in bar plots and tables."
        },
        {
            "cell_type": "markdown",
            "metadata": {},
            "source": "First, I extracted from Wikipedia the Toronto boroughs, neighbourhoods and postal codes [1]. Data was cleaned and transformed into a Pandas Dataframe, which was later  subjected to more cleaning. Geospatial data was downloaded [2] to link Toronto's postal codes to coordinates (latitude and longitude). Then, venues in a radius of 500 m from each neighbourhood location in Toronto were collected into a Dataframe using Foursquare API. This dataframe was then filtered using keywords from the 'Venue Category' column and further categorized into three broader categories (Drinks, Foods and Music). \n\nTo visualize these data, the venues were represented in a Folium map, coloring each venue according to their broad category. In order to capture the spatial clustering of the venues using their coordinates, a K-means unsupervised algorithm was used testing different cluster numbers. A graphical analysis plotting the distance error (sum of squared distances to the clusters) versus the number of clusters was used in the elbow method to determine the optimal number of clusters. Once the optimal cluster number was selected (9), the clusters were represented in a Folium map and color coded according to their cluster label. This clustering strategy was not efficient in finding compact clusters, for this reason the DBSCAN algorithm was used instead. The clustering was optimized by iterating between clustering using this algorithm with different epsilon values and a fixed minimum value of 10 members per cluster. This last value was selected because I considered it to be a reasonable minimum number of businesses located in a single street. The epsilon ranged between 0.01 and 0.1, which gave clusters ranging in sizes from very small to very big as visualized in a Folium map after each clusterization round. I selected the epsilon 0.6 which gave the best spatial clustering in my opinion because all clusters were small enough to be walked from end to end but not so small that they overlapped too much. \n\nFor each cluster, the alpha shape polygon (concave hull / outer path) and encompassed area were calculated. The relative frequencies of the broad categories for each cluster was calculated after one hot encoding. Bar plot representations were performed of the total venues, areas and relative frequencies of venues per cluster.  In case the client would like to know more about the different venues in each cluster, the frequencies of Foursquare venues were analyzed and reported."
        },
        {
            "cell_type": "markdown",
            "metadata": {},
            "source": "## Results\n---"
        },
        {
            "cell_type": "markdown",
            "metadata": {},
            "source": "The collection, processing and cleaning of Toronto's neighbourhood and postal data was stored into a Pandas dataframe (Figure 1).\n"
        },
        {
            "cell_type": "markdown",
            "metadata": {},
            "source": "<img src=\"https://raw.githubusercontent.com/hrbonomi/Capstone/master/1.png\" width=\"600\">"
        },
        {
            "cell_type": "markdown",
            "metadata": {},
            "source": "**Figure 1. Table showing the first entries from the dataframe with Wikipedia's data for Toronto's neighbourhood postal codes.**"
        },
        {
            "cell_type": "markdown",
            "metadata": {},
            "source": "The integration, processing and cleaning of the Foursquare venues data is shown in Figure 2. Broad categories, namely, Drinks, Food and Music, were used to classify and filter the venues. Initially, 2146 venues were downloaded from Foursquare, and after the cleaning and filtering 799 were remaining."
        },
        {
            "cell_type": "markdown",
            "metadata": {},
            "source": "<img src=\"https://raw.githubusercontent.com/hrbonomi/Capstone/master/2.png\">"
        },
        {
            "cell_type": "markdown",
            "metadata": {},
            "source": "**Figure 2. Table showing the first entries from the dataframe with Toronto's neighbourhoods integrated location data.**\n"
        },
        {
            "cell_type": "markdown",
            "metadata": {},
            "source": "\nThe venues were mapped on Toronto's city map using Folium shown below in Figure 3.\n"
        },
        {
            "cell_type": "markdown",
            "metadata": {},
            "source": "<img src=\"https://raw.githubusercontent.com/hrbonomi/Capstone/master/3.png\"> "
        },
        {
            "cell_type": "markdown",
            "metadata": {},
            "source": "\n**Figure 3. Venues mapped on Toronto's city and color coded using broad categories. The color code used here was blue for 'Food', orange for 'Drinks' and green for 'Music'.**\n"
        },
        {
            "cell_type": "markdown",
            "metadata": {},
            "source": "\nThe first clustering attempt was performed with K-means using the coordinates distances. A range of cluster sizes was used to calculate the distance error and plotted to evaluate the elbow method in order to select a proper cluster size (Figure 3). The selected cluster size was 9.\n\n"
        },
        {
            "cell_type": "markdown",
            "metadata": {},
            "source": "<img src=\"https://raw.githubusercontent.com/hrbonomi/Capstone/master/4.png\" width=\"500\">"
        },
        {
            "cell_type": "markdown",
            "metadata": {},
            "source": "\n**Figure 4. Elbow method for K-means venues clustering using coordinate distances.**\n"
        },
        {
            "cell_type": "markdown",
            "metadata": {},
            "source": "\nUsing the selected cluster size, k-means clusters were mapped over Toronto's city map using Folium, shown in Figure 4. Each cluster is colored differently.\n"
        },
        {
            "cell_type": "markdown",
            "metadata": {},
            "source": "<img src=\"https://github.com/hrbonomi/Capstone/blob/master/5.png?raw=true\">"
        },
        {
            "cell_type": "markdown",
            "metadata": {},
            "source": "**Figure 5. K-means clusters of Toronto's city venues based on coordinates distances are mapped. Each cluster is colored in with a different color.**"
        },
        {
            "cell_type": "markdown",
            "metadata": {},
            "source": "K-means clusters are large and disperse over the map, too big for a person looking for a bar to inspect by walking. The clustering algorithm does not detect outliers, hence the big size of the clusters. For these reasons, I chose DBSCAN as a second clustering algorithm, which can detect outliers and can cluster data with different shapes, including compact and with irregular borders. The final clusterization gave rise to 14 clusters and is depicted in Figure 6."
        },
        {
            "cell_type": "markdown",
            "metadata": {},
            "source": "<img src=\"https://raw.githubusercontent.com/hrbonomi/Capstone/master/7.png\">"
        },
        {
            "cell_type": "markdown",
            "metadata": {},
            "source": "\n**Figure 6. DBSCAN clusters of Toronto's city venues based on coordinates distances are mapped. Each cluster is colored in with a different color, outliers are colored in grey.**\n\n"
        },
        {
            "cell_type": "markdown",
            "metadata": {},
            "source": "\nTheir data were gathered in a new dataframe, shown in Figure 7.\n"
        },
        {
            "cell_type": "markdown",
            "metadata": {},
            "source": "<img src=\"https://raw.githubusercontent.com/hrbonomi/Capstone/master/6.png\">"
        },
        {
            "cell_type": "markdown",
            "metadata": {},
            "source": "\n**Figure 7. Dataframe including DBSCAN cluster labeles and other relevant information.**\n"
        },
        {
            "cell_type": "markdown",
            "metadata": {},
            "source": "\nThe relative frequencies of the categories Drinks, Food and Music were calculated for each cluster (Figure 8).\n"
        },
        {
            "cell_type": "markdown",
            "metadata": {},
            "source": "<img src=\"https://raw.githubusercontent.com/hrbonomi/Capstone/master/8.png\" width=\"400\">"
        },
        {
            "cell_type": "markdown",
            "metadata": {},
            "source": "**Figure 8. The categories relative frequencies for each cluster were calculated. This figure shows as an example some of the first clusters.**"
        },
        {
            "cell_type": "markdown",
            "metadata": {},
            "source": "Absolute counts for the number of venues per cluster is depicted in Figure 9 and ordered in descending order."
        },
        {
            "cell_type": "markdown",
            "metadata": {},
            "source": "<img src=\"https://raw.githubusercontent.com/hrbonomi/Capstone/master/9.png\" width=\"1000\">"
        },
        {
            "cell_type": "markdown",
            "metadata": {},
            "source": "**Figure 9. The total number of venues per cluster is shown in descending order.**"
        },
        {
            "cell_type": "markdown",
            "metadata": {},
            "source": "For each cluster, the alpha shape polygon (concave hull / outer path) and encompassed area were calculated and plotted in Figure 10 in descending order. "
        },
        {
            "cell_type": "markdown",
            "metadata": {},
            "source": "<img src=\"https://raw.githubusercontent.com/hrbonomi/Capstone/master/10.png\" width=\"1000\">"
        },
        {
            "cell_type": "markdown",
            "metadata": {},
            "source": "**Figure 10. The total number of venues per cluster is shown in descending order.**"
        },
        {
            "cell_type": "markdown",
            "metadata": {},
            "source": "Relative frequencies for Drink, Food and Music categories were calculated for each cluster and ploted in Figure 11 in descending order for the relative frequencies for Drinks category."
        },
        {
            "cell_type": "markdown",
            "metadata": {},
            "source": "<img src=\"https://raw.githubusercontent.com/hrbonomi/Capstone/master/11.png\">"
        },
        {
            "cell_type": "markdown",
            "metadata": {},
            "source": "**Figure 11. The relative frequencies of Drinks, Food and Music venues per cluster are shown in Drink frequencies descending order.**"
        },
        {
            "cell_type": "markdown",
            "metadata": {},
            "source": "Relative frequencies of Foursquare venue categories were also calculated to have richer information about each cluster venue composition (Figure 12)."
        },
        {
            "cell_type": "markdown",
            "metadata": {},
            "source": "<img src=\"https://raw.githubusercontent.com/hrbonomi/Capstone/master/12.png\">"
        },
        {
            "cell_type": "markdown",
            "metadata": {},
            "source": "**Figure 12. Ranking of each cluster with the ten most frequent Foursquare categories.**"
        },
        {
            "cell_type": "markdown",
            "metadata": {},
            "source": "## Conclusion\n---"
        },
        {
            "cell_type": "markdown",
            "metadata": {},
            "source": "The analysis in this report is intended to detect places in Toronto that are suitable for investing in a bar business. By colecting from  the city's neighbourhoods venues relevant to this business, and later clustering them using the DBSCAN algorithm it was possible to detect 14 clusters. The clusters are more concentrated in the central area of the city. \n\nThe size of the clusters was highly variable as shown in the total amount of venues per cluster, ranging from 10 to more than 300 and in the cluster areas determination. There are some clusters more enriched in bars and pubs, like cluster number 10, while others seems to be predominanlty populated by food venues. Music venues seems to be scarce and only the cluster 6 present music venues.\n\nThe client will be able to select in which part of the city he/she whishes to invest in a bar according to this findings. Evenmore, depending on the composition of the venues provided, the type of bar can be finely tuned to fit in the cluster surroundings."
        },
        {
            "cell_type": "markdown",
            "metadata": {},
            "source": "### References\n---\n\n[1] https://en.wikipedia.org/wiki/List_of_postal_codes_of_Canada:_M  \n[2] https://cocl.us/Geospatial_data"
        }
    ],
    "metadata": {
        "kernelspec": {
            "display_name": "Python 3.6",
            "language": "python",
            "name": "python3"
        },
        "language_info": {
            "codemirror_mode": {
                "name": "ipython",
                "version": 3
            },
            "file_extension": ".py",
            "mimetype": "text/x-python",
            "name": "python",
            "nbconvert_exporter": "python",
            "pygments_lexer": "ipython3",
            "version": "3.6.9"
        }
    },
    "nbformat": 4,
    "nbformat_minor": 2
}