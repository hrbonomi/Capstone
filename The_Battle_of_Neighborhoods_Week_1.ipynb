{
    "cells": [
        {
            "cell_type": "markdown",
            "metadata": {
                "collapsed": true
            },
            "source": "# Capstone Project\n## The Battle of the Neighborhoods\n### Week 1\n## Introduction\n---"
        },
        {
            "cell_type": "markdown",
            "metadata": {},
            "source": "### Business Problem  \n\nI would like to help clients who are trying to decide where to open a bar. Particularly, to give options seelected from different neigbourhood from different major cities arround the world which have been compared in order to make that choice. "
        },
        {
            "cell_type": "markdown",
            "metadata": {},
            "source": "## Data section\n---"
        },
        {
            "cell_type": "markdown",
            "metadata": {},
            "source": "### Data and Methodology  \n\nIn order to determine the potential neighborhoods, data from Toront, Paris, New York and London will be colected and analyzed. Location data from Foursquare and geospatial data from other souces will be gather and combined. Then, clustering and frequency analyses will be used to determine neighborhood similarities and to select the options to be presented for the client."
        },
        {
            "cell_type": "code",
            "execution_count": null,
            "metadata": {},
            "outputs": [],
            "source": ""
        }
    ],
    "metadata": {
        "kernelspec": {
            "display_name": "Python 3.6",
            "language": "python",
            "name": "python3"
        },
        "language_info": {
            "codemirror_mode": {
                "name": "ipython",
                "version": 3
            },
            "file_extension": ".py",
            "mimetype": "text/x-python",
            "name": "python",
            "nbconvert_exporter": "python",
            "pygments_lexer": "ipython3",
            "version": "3.6.9"
        }
    },
    "nbformat": 4,
    "nbformat_minor": 1
}