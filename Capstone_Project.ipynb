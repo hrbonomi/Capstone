{
    "cells": [
        {
            "cell_type": "markdown",
            "metadata": {},
            "source": "## This notebook will be used for the Capstone Project from the \n## \"Applied Data Science Capstone\" IBM course"
        },
        {
            "cell_type": "markdown",
            "metadata": {},
            "source": "### First, import the libraries and repositories used in this notebook."
        },
        {
            "cell_type": "code",
            "execution_count": 1,
            "metadata": {},
            "outputs": [],
            "source": "# import libraries and packages\nimport pandas as pd\nimport numpy as np\nimport requests\nimport lxml.html as lh\n#from IPython.display import display, HTML"
        },
        {
            "cell_type": "markdown",
            "metadata": {},
            "source": "### Then, using the Wikipedia url provided in the assignment.\n### The contents of the site are stored, then parsed the HTML code, storing tr elements in a list as the table should be contained in these lines"
        },
        {
            "cell_type": "code",
            "execution_count": 2,
            "metadata": {},
            "outputs": [
                {
                    "data": {
                        "text/plain": "[<Element tr at 0x7f60af204a48>,\n <Element tr at 0x7f60af2049f8>,\n <Element tr at 0x7f60af204a98>,\n <Element tr at 0x7f60af204ae8>,\n <Element tr at 0x7f60af204d18>,\n <Element tr at 0x7f60af204d68>,\n <Element tr at 0x7f60af204db8>,\n <Element tr at 0x7f60af204e08>,\n <Element tr at 0x7f60af204e58>,\n <Element tr at 0x7f60af204ea8>]"
                    },
                    "execution_count": 2,
                    "metadata": {},
                    "output_type": "execute_result"
                }
            ],
            "source": "url = 'https://en.wikipedia.org/wiki/List_of_postal_codes_of_Canada:_M'\n\n# Create a handle to the contents of the website\npage = requests.get(url)\n\n#Store the contents of the website under doc\ndoc = lh.fromstring(page.content)\n\n#Parse data that are stored between <tr>..</tr> of HTML\ntr_elements = doc.xpath('//tr')\ntr_elements[0:10]"
        },
        {
            "cell_type": "markdown",
            "metadata": {},
            "source": "### Corroboration that the each elements has 3 columns, as observed in the Wikipedia website"
        },
        {
            "cell_type": "code",
            "execution_count": 3,
            "metadata": {},
            "outputs": [
                {
                    "name": "stdout",
                    "output_type": "stream",
                    "text": "[3, 3, 3, 3, 3, 3, 3, 3, 3, 3]\n"
                }
            ],
            "source": "row_length = [len(T) for T in tr_elements[:10]]\nprint(row_length)"
        },
        {
            "cell_type": "markdown",
            "metadata": {},
            "source": "### Another verification corroborating the headers"
        },
        {
            "cell_type": "code",
            "execution_count": 4,
            "metadata": {},
            "outputs": [
                {
                    "name": "stdout",
                    "output_type": "stream",
                    "text": "1: \"Postal Code\n\"\n2: \"Borough\n\"\n3: \"Neighbourhood\n\"\n"
                }
            ],
            "source": "tr_elements = doc.xpath('//tr')\n# Create an empty list\ncolumn=[]\ni=0\n# For each row, store each first element (header) and an empty list\nfor t in tr_elements[0]:\n    i+=1\n    name=t.text_content()\n    print('%d: \"%s\"'%(i,name))\n    column.append((name,[]))"
        },
        {
            "cell_type": "markdown",
            "metadata": {},
            "source": "### Since first row is the header, the data will be stored starting from the second row"
        },
        {
            "cell_type": "code",
            "execution_count": 5,
            "metadata": {},
            "outputs": [],
            "source": "for j in range(1,len(tr_elements)):\n    #T is our j'th row\n    T=tr_elements[j]\n    \n    #If row is not of size 3, the //tr data is not from our table \n    if len(T)!=row_length[0]:\n        break\n    \n    #i is the index of our column\n    i=0\n    \n    #Iterate through each element of the row\n    for t in T.iterchildren():\n        data = t.text_content() \n        #Check if row is empty\n        if i>0:\n        #Convert any numerical value to integers\n            try:\n                data=int(data)\n            except:\n                pass\n        #Append the data to the empty list of the i'th column\n        column[i][1].append(data)\n        #Increment i for the next column\n        i+=1"
        },
        {
            "cell_type": "markdown",
            "metadata": {},
            "source": "### Another check, now on the initial number of rows for each column"
        },
        {
            "cell_type": "code",
            "execution_count": 6,
            "metadata": {},
            "outputs": [
                {
                    "data": {
                        "text/plain": "[181, 181, 181]"
                    },
                    "execution_count": 6,
                    "metadata": {},
                    "output_type": "execute_result"
                }
            ],
            "source": "[len(C) for (title,C) in column]"
        },
        {
            "cell_type": "markdown",
            "metadata": {},
            "source": "### The data is first stored in a dictionary, then it is turned into a Dataframe"
        },
        {
            "cell_type": "code",
            "execution_count": 8,
            "metadata": {},
            "outputs": [],
            "source": "Dict = {title:column for (title,column) in column}\ndf = pd.DataFrame(Dict)"
        },
        {
            "cell_type": "markdown",
            "metadata": {},
            "source": "### This is the cleaning steps:\n* Get rid of the \\n symbols\n* Drop rows in Borough column containig 'Not assigned'\n* Replace elements in Neighbourhood column containing 'Not assigned' \n  with Borough values from the same row"
        },
        {
            "cell_type": "code",
            "execution_count": 9,
            "metadata": {
                "scrolled": true
            },
            "outputs": [
                {
                    "data": {
                        "text/html": "<div>\n<style scoped>\n    .dataframe tbody tr th:only-of-type {\n        vertical-align: middle;\n    }\n\n    .dataframe tbody tr th {\n        vertical-align: top;\n    }\n\n    .dataframe thead th {\n        text-align: right;\n    }\n</style>\n<table border=\"1\" class=\"dataframe\">\n  <thead>\n    <tr style=\"text-align: right;\">\n      <th></th>\n      <th>Postal Code</th>\n      <th>Borough</th>\n      <th>Neighbourhood</th>\n    </tr>\n  </thead>\n  <tbody>\n    <tr>\n      <th>2</th>\n      <td>M3A</td>\n      <td>North York</td>\n      <td>Parkwoods</td>\n    </tr>\n    <tr>\n      <th>3</th>\n      <td>M4A</td>\n      <td>North York</td>\n      <td>Victoria Village</td>\n    </tr>\n    <tr>\n      <th>4</th>\n      <td>M5A</td>\n      <td>Downtown Toronto</td>\n      <td>Regent Park, Harbourfront</td>\n    </tr>\n    <tr>\n      <th>5</th>\n      <td>M6A</td>\n      <td>North York</td>\n      <td>Lawrence Manor, Lawrence Heights</td>\n    </tr>\n    <tr>\n      <th>6</th>\n      <td>M7A</td>\n      <td>Downtown Toronto</td>\n      <td>Queen's Park, Ontario Provincial Government</td>\n    </tr>\n  </tbody>\n</table>\n</div>",
                        "text/plain": "  Postal Code           Borough                                Neighbourhood\n2         M3A        North York                                    Parkwoods\n3         M4A        North York                             Victoria Village\n4         M5A  Downtown Toronto                    Regent Park, Harbourfront\n5         M6A        North York             Lawrence Manor, Lawrence Heights\n6         M7A  Downtown Toronto  Queen's Park, Ontario Provincial Government"
                    },
                    "execution_count": 9,
                    "metadata": {},
                    "output_type": "execute_result"
                }
            ],
            "source": "# Clean the data\n# Get rid of the \\n symbols \ndf = df.replace('\\n','', regex=True)\ndf.columns = df.columns.str.replace('\\n','', regex=True)\n\n# Drop rows with Borough == 'Not assigned'\ndf.drop(df[df.Borough == 'Not assigned'].index, inplace=True)\nnan_value = np.nan\ndf.replace('', nan_value, inplace=True)\ndf = df.dropna(how='any')\n\n# Replace cell in Neighbourhood == 'Not assigned' with Borough values from the same row\ncondition = df.Neighbourhood == 'Not assigned'\ndf.Neighbourhood[condition] = df.Borough\ndf.head()"
        },
        {
            "cell_type": "markdown",
            "metadata": {},
            "source": "### Final assesment of the remaining number of rows in the dataframe"
        },
        {
            "cell_type": "code",
            "execution_count": 10,
            "metadata": {},
            "outputs": [
                {
                    "name": "stdout",
                    "output_type": "stream",
                    "text": "The number of rows in the dataframe is: 103\n"
                }
            ],
            "source": "print('The number of rows in the dataframe is: {}'.format(df.shape[0]))"
        },
        {
            "cell_type": "code",
            "execution_count": null,
            "metadata": {},
            "outputs": [],
            "source": ""
        }
    ],
    "metadata": {
        "kernelspec": {
            "display_name": "Python 3.6",
            "language": "python",
            "name": "python3"
        },
        "language_info": {
            "codemirror_mode": {
                "name": "ipython",
                "version": 3
            },
            "file_extension": ".py",
            "mimetype": "text/x-python",
            "name": "python",
            "nbconvert_exporter": "python",
            "pygments_lexer": "ipython3",
            "version": "3.6.9"
        }
    },
    "nbformat": 4,
    "nbformat_minor": 4
}