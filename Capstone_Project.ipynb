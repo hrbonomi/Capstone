{
    "cells": [
        {
            "cell_type": "markdown",
            "metadata": {},
            "source": "# Instructions\n\nStart a Jupyter Notebook using any platform that you are comfortable with and do the following:\n\n* Write some markdown to explain that this notebook will be mainly used for the capstone project.  \n* Import the pandas library as pd.  \n* Import the Numpy library as np.  \n* Print the following the statement: Hello Capstone Project Course!  \n* Push the Notebook to your Github repository and submit a link to the notebook on your Github repository.  "
        },
        {
            "cell_type": "markdown",
            "metadata": {},
            "source": "## This notebook will be used for the Capstone Project from the \n## \"Applied Data Science Capstone\" IBM course"
        },
        {
            "cell_type": "code",
            "execution_count": 1,
            "metadata": {},
            "outputs": [],
            "source": "import pandas as pd\nimport numpy as np"
        },
        {
            "cell_type": "code",
            "execution_count": 2,
            "metadata": {},
            "outputs": [
                {
                    "name": "stdout",
                    "output_type": "stream",
                    "text": "Hello Capstone Project Course!\n"
                }
            ],
            "source": "print('Hello Capstone Project Course!')"
        },
        {
            "cell_type": "code",
            "execution_count": null,
            "metadata": {},
            "outputs": [],
            "source": ""
        }
    ],
    "metadata": {
        "kernelspec": {
            "display_name": "Python",
            "language": "python",
            "name": "conda-env-python-py"
        },
        "language_info": {
            "codemirror_mode": {
                "name": "ipython",
                "version": 3
            },
            "file_extension": ".py",
            "mimetype": "text/x-python",
            "name": "python",
            "nbconvert_exporter": "python",
            "pygments_lexer": "ipython3",
            "version": "3.6.11"
        }
    },
    "nbformat": 4,
    "nbformat_minor": 4
}